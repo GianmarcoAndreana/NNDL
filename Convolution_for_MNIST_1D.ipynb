{
  "nbformat": 4,
  "nbformat_minor": 0,
  "metadata": {
    "colab": {
      "provenance": [],
      "include_colab_link": true
    },
    "kernelspec": {
      "name": "python3",
      "display_name": "Python 3"
    },
    "language_info": {
      "name": "python"
    }
  },
  "cells": [
    {
      "cell_type": "markdown",
      "metadata": {
        "id": "view-in-github",
        "colab_type": "text"
      },
      "source": [
        "<a href=\"https://colab.research.google.com/github/GianmarcoAndreana/NNDL/blob/main/Convolution_for_MNIST_1D.ipynb\" target=\"_parent\"><img src=\"https://colab.research.google.com/assets/colab-badge.svg\" alt=\"Open In Colab\"/></a>"
      ]
    },
    {
      "cell_type": "markdown",
      "source": [
        "# **Convolution for MNIST-1D**\n"
      ],
      "metadata": {
        "id": "t9vk9Elugvmi"
      }
    },
    {
      "cell_type": "code",
      "source": [
        "# Run this if you're in a Colab to install MNIST 1D repository\n",
        "!pip install git+https://github.com/greydanus/mnist1d"
      ],
      "metadata": {
        "id": "D5yLObtZCi9J",
        "outputId": "af22a51d-945d-4469-dcc5-e57f150d8b1a",
        "colab": {
          "base_uri": "https://localhost:8080/"
        }
      },
      "execution_count": null,
      "outputs": [
        {
          "output_type": "stream",
          "name": "stdout",
          "text": [
            "Collecting git+https://github.com/greydanus/mnist1d\n",
            "  Cloning https://github.com/greydanus/mnist1d to /tmp/pip-req-build-2mms5plx\n",
            "  Running command git clone --filter=blob:none --quiet https://github.com/greydanus/mnist1d /tmp/pip-req-build-2mms5plx\n",
            "  Resolved https://github.com/greydanus/mnist1d to commit 7878d96082abd200c546a07a4101fa90b30fdf7e\n",
            "  Installing build dependencies ... \u001b[?25l\u001b[?25hdone\n",
            "  Getting requirements to build wheel ... \u001b[?25l\u001b[?25hdone\n",
            "  Preparing metadata (pyproject.toml) ... \u001b[?25l\u001b[?25hdone\n",
            "Requirement already satisfied: requests in /usr/local/lib/python3.11/dist-packages (from mnist1d==0.0.2.post16) (2.32.3)\n",
            "Requirement already satisfied: numpy in /usr/local/lib/python3.11/dist-packages (from mnist1d==0.0.2.post16) (1.26.4)\n",
            "Requirement already satisfied: matplotlib in /usr/local/lib/python3.11/dist-packages (from mnist1d==0.0.2.post16) (3.10.0)\n",
            "Requirement already satisfied: scipy in /usr/local/lib/python3.11/dist-packages (from mnist1d==0.0.2.post16) (1.14.1)\n",
            "Requirement already satisfied: contourpy>=1.0.1 in /usr/local/lib/python3.11/dist-packages (from matplotlib->mnist1d==0.0.2.post16) (1.3.1)\n",
            "Requirement already satisfied: cycler>=0.10 in /usr/local/lib/python3.11/dist-packages (from matplotlib->mnist1d==0.0.2.post16) (0.12.1)\n",
            "Requirement already satisfied: fonttools>=4.22.0 in /usr/local/lib/python3.11/dist-packages (from matplotlib->mnist1d==0.0.2.post16) (4.56.0)\n",
            "Requirement already satisfied: kiwisolver>=1.3.1 in /usr/local/lib/python3.11/dist-packages (from matplotlib->mnist1d==0.0.2.post16) (1.4.8)\n",
            "Requirement already satisfied: packaging>=20.0 in /usr/local/lib/python3.11/dist-packages (from matplotlib->mnist1d==0.0.2.post16) (24.2)\n",
            "Requirement already satisfied: pillow>=8 in /usr/local/lib/python3.11/dist-packages (from matplotlib->mnist1d==0.0.2.post16) (11.1.0)\n",
            "Requirement already satisfied: pyparsing>=2.3.1 in /usr/local/lib/python3.11/dist-packages (from matplotlib->mnist1d==0.0.2.post16) (3.2.1)\n",
            "Requirement already satisfied: python-dateutil>=2.7 in /usr/local/lib/python3.11/dist-packages (from matplotlib->mnist1d==0.0.2.post16) (2.8.2)\n",
            "Requirement already satisfied: charset-normalizer<4,>=2 in /usr/local/lib/python3.11/dist-packages (from requests->mnist1d==0.0.2.post16) (3.4.1)\n",
            "Requirement already satisfied: idna<4,>=2.5 in /usr/local/lib/python3.11/dist-packages (from requests->mnist1d==0.0.2.post16) (3.10)\n",
            "Requirement already satisfied: urllib3<3,>=1.21.1 in /usr/local/lib/python3.11/dist-packages (from requests->mnist1d==0.0.2.post16) (2.3.0)\n",
            "Requirement already satisfied: certifi>=2017.4.17 in /usr/local/lib/python3.11/dist-packages (from requests->mnist1d==0.0.2.post16) (2025.1.31)\n",
            "Requirement already satisfied: six>=1.5 in /usr/local/lib/python3.11/dist-packages (from python-dateutil>=2.7->matplotlib->mnist1d==0.0.2.post16) (1.17.0)\n",
            "Building wheels for collected packages: mnist1d\n",
            "  Building wheel for mnist1d (pyproject.toml) ... \u001b[?25l\u001b[?25hdone\n",
            "  Created wheel for mnist1d: filename=mnist1d-0.0.2.post16-py3-none-any.whl size=14626 sha256=e1f50f66fe2c891e50049e6bcb74c82cc7f5ad27b2901bc768aae3c3d9bbf798\n",
            "  Stored in directory: /tmp/pip-ephem-wheel-cache-wlh1qdo1/wheels/d6/38/42/3d2112bc7d915f6195254ac85eb761d922d1b18f52817aa8e2\n",
            "Successfully built mnist1d\n",
            "Installing collected packages: mnist1d\n",
            "Successfully installed mnist1d-0.0.2.post16\n"
          ]
        }
      ]
    },
    {
      "cell_type": "code",
      "source": [
        "import numpy as np\n",
        "import os\n",
        "import torch, torch.nn as nn\n",
        "from torch.utils.data import TensorDataset, DataLoader\n",
        "from torch.optim.lr_scheduler import StepLR\n",
        "import matplotlib.pyplot as plt\n",
        "import mnist1d\n",
        "import random"
      ],
      "metadata": {
        "id": "YrXWAH7sUWvU"
      },
      "execution_count": null,
      "outputs": []
    },
    {
      "cell_type": "code",
      "source": [
        "args = mnist1d.data.get_dataset_args()\n",
        "data = mnist1d.data.get_dataset(args, path='./mnist1d_data.pkl', download=False, regenerate=False)\n",
        "\n",
        "# The training and test input and outputs are in\n",
        "# data['x'], data['y'], data['x_test'], and data['y_test']\n",
        "print(\"Examples in training set: {}\".format(len(data['y'])))\n",
        "print(\"Examples in test set: {}\".format(len(data['y_test'])))\n",
        "print(\"Length of each example: {}\".format(data['x'].shape[-1]))"
      ],
      "metadata": {
        "id": "twI72ZCrCt5z",
        "outputId": "97d3880e-8c3d-4d4c-e889-13a093b6b528",
        "colab": {
          "base_uri": "https://localhost:8080/"
        }
      },
      "execution_count": null,
      "outputs": [
        {
          "output_type": "stream",
          "name": "stdout",
          "text": [
            "Did or could not load data from ./mnist1d_data.pkl. Rebuilding dataset...\n",
            "Examples in training set: 4000\n",
            "Examples in test set: 1000\n",
            "Length of each example: 40\n"
          ]
        }
      ]
    },
    {
      "cell_type": "code",
      "source": [
        "# Load in the data\n",
        "train_data_x = data['x'].transpose()\n",
        "train_data_y = data['y']\n",
        "val_data_x = data['x_test'].transpose()\n",
        "val_data_y = data['y_test']\n",
        "# Print out sizes\n",
        "print(\"Train data: %d examples (columns), each of which has %d dimensions (rows)\"%((train_data_x.shape[1],train_data_x.shape[0])))\n",
        "print(\"Validation data: %d examples (columns), each of which has %d dimensions (rows)\"%((val_data_x.shape[1],val_data_x.shape[0])))"
      ],
      "metadata": {
        "id": "8bKADvLHbiV5",
        "outputId": "a051269a-659c-40ef-c8eb-6e4be01ccb7c",
        "colab": {
          "base_uri": "https://localhost:8080/"
        }
      },
      "execution_count": null,
      "outputs": [
        {
          "output_type": "stream",
          "name": "stdout",
          "text": [
            "Train data: 4000 examples (columns), each of which has 40 dimensions (rows)\n",
            "Validation data: 1000 examples (columns), each of which has 40 dimensions (rows)\n"
          ]
        }
      ]
    },
    {
      "cell_type": "markdown",
      "source": [
        "Define the network"
      ],
      "metadata": {
        "id": "_sFvRDGrl4qe"
      }
    },
    {
      "cell_type": "code",
      "source": [
        "# There are 40 input dimensions and 10 output dimensions for this data\n",
        "# The inputs correspond to the 40 offsets in the MNIST1D template.\n",
        "D_i = 40\n",
        "# The outputs correspond to the 10 digits\n",
        "D_o = 10\n",
        "\n",
        "\n",
        "# TODO Create a model with the following layers\n",
        "# 1. Convolutional layer, (input=length 40 and 1 channel, kernel size 3, stride 2, padding=\"valid\", 15 output channels )\n",
        "# 2. ReLU\n",
        "# 3. Convolutional layer, (input=length 19 and 15 channels, kernel size 3, stride 2, padding=\"valid\", 15 output channels )\n",
        "# 4. ReLU\n",
        "# 5. Convolutional layer, (input=length 9 and 15 channels, kernel size 3, stride 2, padding=\"valid\", 15 output channels)\n",
        "# 6. ReLU\n",
        "# 7. Flatten (converts 4x15) to length 60\n",
        "# 8. Linear layer (input size = 60, output size = 10)\n",
        "# References:\n",
        "# https://pytorch.org/docs/1.13/generated/torch.nn.Conv1d.html?highlight=conv1d#torch.nn.Conv1d\n",
        "# https://pytorch.org/docs/stable/generated/torch.nn.Flatten.html\n",
        "# https://pytorch.org/docs/1.13/generated/torch.nn.Linear.html?highlight=linear#torch.nn.Linear\n",
        "\n",
        "# NOTE THAT THE CONVOLUTIONAL LAYERS NEED TO TAKE THE NUMBER OF INPUT CHANNELS AS A PARAMETER\n",
        "# AND NOT THE INPUT SIZE.\n",
        "\n",
        "# Replace the following function:\n",
        "model = nn.Sequential(\n",
        "    nn.Conv1d(in_channels=1, out_channels=15, kernel_size=3, stride=2, padding=0),\n",
        "    nn.ReLU(),\n",
        "    nn.Conv1d(in_channels=15, out_channels=15, kernel_size=3, stride=2, padding=0),\n",
        "    nn.ReLU(),\n",
        "    nn.Conv1d(in_channels=15, out_channels=15, kernel_size=3, stride=2, padding=0),\n",
        "    nn.ReLU(),\n",
        "    nn.Flatten(),\n",
        "    nn.Linear(4 * 15, 10)\n",
        ")"
      ],
      "metadata": {
        "id": "FslroPJJffrh"
      },
      "execution_count": null,
      "outputs": []
    },
    {
      "cell_type": "code",
      "source": [
        "# He initialization of weights\n",
        "def weights_init(layer_in):\n",
        "  if isinstance(layer_in, nn.Linear):\n",
        "    nn.init.kaiming_uniform_(layer_in.weight)\n",
        "    layer_in.bias.data.fill_(0.0)"
      ],
      "metadata": {
        "id": "YgLaex1pfhqz"
      },
      "execution_count": null,
      "outputs": []
    },
    {
      "cell_type": "code",
      "source": [
        "# choose cross entropy loss function (equation 5.24 in the loss notes)\n",
        "loss_function = nn.CrossEntropyLoss()\n",
        "# construct SGD optimizer and initialize learning rate and momentum\n",
        "optimizer = torch.optim.SGD(model.parameters(), lr = 0.05, momentum=0.9)\n",
        "# object that decreases learning rate by half every 20 epochs\n",
        "scheduler = StepLR(optimizer, step_size=20, gamma=0.5)\n",
        "# create 100 dummy data points and store in data loader class\n",
        "x_train = torch.tensor(train_data_x.transpose().astype('float32'))\n",
        "y_train = torch.tensor(train_data_y.astype('long')).long()\n",
        "x_val= torch.tensor(val_data_x.transpose().astype('float32'))\n",
        "y_val = torch.tensor(val_data_y.astype('long')).long()\n",
        "\n",
        "# load the data into a class that creates the batches\n",
        "data_loader = DataLoader(TensorDataset(x_train,y_train), batch_size=100, shuffle=True, worker_init_fn=np.random.seed(1))\n",
        "\n",
        "# Initialize model weights\n",
        "model.apply(weights_init)\n",
        "\n",
        "# loop over the dataset n_epoch times\n",
        "n_epoch = 100\n",
        "# store the loss and the % correct at each epoch\n",
        "losses_train = np.zeros((n_epoch))\n",
        "errors_train = np.zeros((n_epoch))\n",
        "losses_val = np.zeros((n_epoch))\n",
        "errors_val = np.zeros((n_epoch))\n",
        "\n",
        "for epoch in range(n_epoch):\n",
        "  # loop over batches\n",
        "  for i, data in enumerate(data_loader):\n",
        "    # retrieve inputs and labels for this batch\n",
        "    x_batch, y_batch = data\n",
        "    # zero the parameter gradients\n",
        "    optimizer.zero_grad()\n",
        "    # forward pass -- calculate model output\n",
        "    pred = model(x_batch[:,None,:])\n",
        "    # compute the loss\n",
        "    loss = loss_function(pred, y_batch)\n",
        "    # backward pass\n",
        "    loss.backward()\n",
        "    # SGD update\n",
        "    optimizer.step()\n",
        "\n",
        "  # Run whole dataset to get statistics -- normally wouldn't do this\n",
        "  pred_train = model(x_train[:,None,:])\n",
        "  pred_val = model(x_val[:,None,:])\n",
        "  _, predicted_train_class = torch.max(pred_train.data, 1)\n",
        "  _, predicted_val_class = torch.max(pred_val.data, 1)\n",
        "  errors_train[epoch] = 100 - 100 * (predicted_train_class == y_train).float().sum() / len(y_train)\n",
        "  errors_val[epoch]= 100 - 100 * (predicted_val_class == y_val).float().sum() / len(y_val)\n",
        "  losses_train[epoch] = loss_function(pred_train, y_train).item()\n",
        "  losses_val[epoch]= loss_function(pred_val, y_val).item()\n",
        "  print(f'Epoch {epoch:5d}, train loss {losses_train[epoch]:.6f}, train error {errors_train[epoch]:3.2f},  val loss {losses_val[epoch]:.6f}, percent error {errors_val[epoch]:3.2f}')\n",
        "\n",
        "  # tell scheduler to consider updating learning rate\n",
        "  scheduler.step()\n",
        "\n",
        "# Plot the results\n",
        "fig, ax = plt.subplots()\n",
        "ax.plot(errors_train,'r-',label='train')\n",
        "ax.plot(errors_val,'b-',label='validation')\n",
        "ax.set_ylim(0,100); ax.set_xlim(0,n_epoch)\n",
        "ax.set_xlabel('Epoch'); ax.set_ylabel('Error')\n",
        "ax.set_title('Part I: Validation Result %3.2f'%(errors_val[-1]))\n",
        "ax.legend()\n",
        "plt.show()"
      ],
      "metadata": {
        "id": "NYw8I_3mmX5c",
        "outputId": "f5c3bb59-543e-4732-b106-f9e5c87f03a5",
        "colab": {
          "base_uri": "https://localhost:8080/",
          "height": 1000
        }
      },
      "execution_count": null,
      "outputs": [
        {
          "output_type": "stream",
          "name": "stdout",
          "text": [
            "Epoch     0, train loss 2.075634, train error 80.18,  val loss 2.088513, percent error 80.50\n",
            "Epoch     1, train loss 1.625064, train error 63.03,  val loss 1.648592, percent error 67.10\n",
            "Epoch     2, train loss 1.421715, train error 57.20,  val loss 1.434164, percent error 57.10\n",
            "Epoch     3, train loss 1.329720, train error 54.22,  val loss 1.338215, percent error 57.60\n",
            "Epoch     4, train loss 1.272488, train error 51.35,  val loss 1.280185, percent error 52.90\n",
            "Epoch     5, train loss 1.217798, train error 50.78,  val loss 1.231663, percent error 51.30\n",
            "Epoch     6, train loss 1.135678, train error 46.20,  val loss 1.148338, percent error 47.80\n",
            "Epoch     7, train loss 1.084684, train error 44.35,  val loss 1.108742, percent error 45.80\n",
            "Epoch     8, train loss 0.985561, train error 41.42,  val loss 1.013948, percent error 44.50\n",
            "Epoch     9, train loss 0.877084, train error 35.53,  val loss 0.917840, percent error 38.50\n",
            "Epoch    10, train loss 0.815332, train error 33.00,  val loss 0.883491, percent error 37.60\n",
            "Epoch    11, train loss 0.792247, train error 32.43,  val loss 0.885922, percent error 38.00\n",
            "Epoch    12, train loss 0.742086, train error 29.50,  val loss 0.814031, percent error 32.30\n",
            "Epoch    13, train loss 0.614197, train error 23.00,  val loss 0.704658, percent error 27.40\n",
            "Epoch    14, train loss 0.565384, train error 20.55,  val loss 0.653103, percent error 24.80\n",
            "Epoch    15, train loss 0.549537, train error 21.82,  val loss 0.636796, percent error 25.10\n",
            "Epoch    16, train loss 0.488045, train error 18.00,  val loss 0.595154, percent error 22.10\n",
            "Epoch    17, train loss 0.414662, train error 14.70,  val loss 0.528842, percent error 19.70\n",
            "Epoch    18, train loss 0.386487, train error 13.40,  val loss 0.531389, percent error 20.30\n",
            "Epoch    19, train loss 0.374961, train error 13.50,  val loss 0.487785, percent error 16.40\n",
            "Epoch    20, train loss 0.316196, train error 10.95,  val loss 0.451101, percent error 14.70\n",
            "Epoch    21, train loss 0.265034, train error 8.62,  val loss 0.404726, percent error 14.40\n",
            "Epoch    22, train loss 0.260150, train error 9.12,  val loss 0.406350, percent error 14.30\n",
            "Epoch    23, train loss 0.235554, train error 7.82,  val loss 0.388523, percent error 13.50\n",
            "Epoch    24, train loss 0.238372, train error 7.85,  val loss 0.389922, percent error 13.90\n",
            "Epoch    25, train loss 0.222967, train error 7.25,  val loss 0.381960, percent error 12.70\n",
            "Epoch    26, train loss 0.207816, train error 7.05,  val loss 0.355485, percent error 12.30\n",
            "Epoch    27, train loss 0.235690, train error 8.25,  val loss 0.435404, percent error 14.20\n",
            "Epoch    28, train loss 0.198223, train error 6.80,  val loss 0.371773, percent error 12.50\n",
            "Epoch    29, train loss 0.189350, train error 6.22,  val loss 0.359236, percent error 11.70\n",
            "Epoch    30, train loss 0.206178, train error 7.00,  val loss 0.378595, percent error 12.50\n",
            "Epoch    31, train loss 0.180728, train error 5.78,  val loss 0.363517, percent error 12.30\n",
            "Epoch    32, train loss 0.185792, train error 6.45,  val loss 0.377263, percent error 12.10\n",
            "Epoch    33, train loss 0.171464, train error 5.97,  val loss 0.359622, percent error 11.10\n",
            "Epoch    34, train loss 0.147975, train error 4.57,  val loss 0.348549, percent error 11.00\n",
            "Epoch    35, train loss 0.173589, train error 6.38,  val loss 0.380890, percent error 11.70\n",
            "Epoch    36, train loss 0.144457, train error 4.85,  val loss 0.363796, percent error 11.60\n",
            "Epoch    37, train loss 0.156051, train error 5.28,  val loss 0.378038, percent error 12.10\n",
            "Epoch    38, train loss 0.154477, train error 5.80,  val loss 0.377891, percent error 10.60\n",
            "Epoch    39, train loss 0.162613, train error 5.82,  val loss 0.395682, percent error 11.10\n",
            "Epoch    40, train loss 0.115828, train error 3.28,  val loss 0.351159, percent error 10.00\n",
            "Epoch    41, train loss 0.116077, train error 3.78,  val loss 0.359141, percent error 10.50\n",
            "Epoch    42, train loss 0.125188, train error 4.30,  val loss 0.376582, percent error 12.10\n",
            "Epoch    43, train loss 0.118097, train error 3.72,  val loss 0.371539, percent error 12.00\n",
            "Epoch    44, train loss 0.107061, train error 3.28,  val loss 0.383458, percent error 11.80\n",
            "Epoch    45, train loss 0.101914, train error 2.95,  val loss 0.360825, percent error 10.90\n",
            "Epoch    46, train loss 0.114068, train error 3.57,  val loss 0.388469, percent error 11.40\n",
            "Epoch    47, train loss 0.102153, train error 2.97,  val loss 0.378172, percent error 11.40\n",
            "Epoch    48, train loss 0.104185, train error 3.15,  val loss 0.381424, percent error 10.80\n",
            "Epoch    49, train loss 0.100059, train error 3.03,  val loss 0.385638, percent error 11.20\n",
            "Epoch    50, train loss 0.094712, train error 2.60,  val loss 0.378870, percent error 11.40\n",
            "Epoch    51, train loss 0.091561, train error 2.57,  val loss 0.378225, percent error 11.20\n",
            "Epoch    52, train loss 0.092699, train error 2.75,  val loss 0.382454, percent error 11.00\n",
            "Epoch    53, train loss 0.092274, train error 2.93,  val loss 0.394206, percent error 11.50\n",
            "Epoch    54, train loss 0.100193, train error 3.00,  val loss 0.389259, percent error 11.40\n",
            "Epoch    55, train loss 0.105121, train error 3.68,  val loss 0.404962, percent error 11.90\n",
            "Epoch    56, train loss 0.084090, train error 2.15,  val loss 0.393998, percent error 11.30\n",
            "Epoch    57, train loss 0.084802, train error 2.47,  val loss 0.391425, percent error 10.70\n",
            "Epoch    58, train loss 0.082270, train error 2.25,  val loss 0.381727, percent error 10.80\n",
            "Epoch    59, train loss 0.084323, train error 2.30,  val loss 0.398734, percent error 11.40\n",
            "Epoch    60, train loss 0.077017, train error 2.10,  val loss 0.393736, percent error 11.20\n",
            "Epoch    61, train loss 0.074254, train error 1.85,  val loss 0.394638, percent error 11.10\n",
            "Epoch    62, train loss 0.074922, train error 1.90,  val loss 0.391938, percent error 10.30\n",
            "Epoch    63, train loss 0.073489, train error 1.80,  val loss 0.392824, percent error 11.10\n",
            "Epoch    64, train loss 0.073843, train error 1.90,  val loss 0.407872, percent error 11.80\n",
            "Epoch    65, train loss 0.072057, train error 1.75,  val loss 0.399801, percent error 10.60\n",
            "Epoch    66, train loss 0.070902, train error 1.70,  val loss 0.402117, percent error 10.80\n",
            "Epoch    67, train loss 0.070761, train error 1.60,  val loss 0.401898, percent error 11.30\n",
            "Epoch    68, train loss 0.069348, train error 1.72,  val loss 0.406350, percent error 11.40\n",
            "Epoch    69, train loss 0.071240, train error 1.90,  val loss 0.403614, percent error 10.50\n",
            "Epoch    70, train loss 0.070362, train error 1.70,  val loss 0.406456, percent error 10.90\n",
            "Epoch    71, train loss 0.068473, train error 1.50,  val loss 0.410953, percent error 11.20\n",
            "Epoch    72, train loss 0.066995, train error 1.55,  val loss 0.411703, percent error 11.10\n",
            "Epoch    73, train loss 0.066938, train error 1.62,  val loss 0.413124, percent error 11.70\n",
            "Epoch    74, train loss 0.065691, train error 1.53,  val loss 0.412273, percent error 11.00\n",
            "Epoch    75, train loss 0.065460, train error 1.57,  val loss 0.413078, percent error 11.50\n",
            "Epoch    76, train loss 0.066064, train error 1.65,  val loss 0.415718, percent error 10.80\n",
            "Epoch    77, train loss 0.064146, train error 1.55,  val loss 0.418399, percent error 11.50\n",
            "Epoch    78, train loss 0.062908, train error 1.43,  val loss 0.418463, percent error 11.30\n",
            "Epoch    79, train loss 0.064265, train error 1.55,  val loss 0.425749, percent error 11.10\n",
            "Epoch    80, train loss 0.061962, train error 1.45,  val loss 0.420832, percent error 11.00\n",
            "Epoch    81, train loss 0.061041, train error 1.43,  val loss 0.419231, percent error 11.20\n",
            "Epoch    82, train loss 0.060626, train error 1.43,  val loss 0.420106, percent error 11.40\n",
            "Epoch    83, train loss 0.061524, train error 1.50,  val loss 0.421252, percent error 11.90\n",
            "Epoch    84, train loss 0.060417, train error 1.32,  val loss 0.422907, percent error 11.40\n",
            "Epoch    85, train loss 0.059911, train error 1.35,  val loss 0.425036, percent error 11.30\n",
            "Epoch    86, train loss 0.059784, train error 1.25,  val loss 0.420041, percent error 11.30\n",
            "Epoch    87, train loss 0.060480, train error 1.38,  val loss 0.423933, percent error 11.40\n",
            "Epoch    88, train loss 0.060380, train error 1.38,  val loss 0.421949, percent error 11.40\n",
            "Epoch    89, train loss 0.058693, train error 1.25,  val loss 0.420452, percent error 11.00\n",
            "Epoch    90, train loss 0.058776, train error 1.45,  val loss 0.421744, percent error 11.20\n",
            "Epoch    91, train loss 0.058469, train error 1.35,  val loss 0.427889, percent error 11.20\n",
            "Epoch    92, train loss 0.057864, train error 1.40,  val loss 0.425596, percent error 11.20\n",
            "Epoch    93, train loss 0.057841, train error 1.35,  val loss 0.428652, percent error 11.50\n",
            "Epoch    94, train loss 0.057520, train error 1.22,  val loss 0.430383, percent error 11.30\n",
            "Epoch    95, train loss 0.057191, train error 1.25,  val loss 0.430407, percent error 11.70\n",
            "Epoch    96, train loss 0.056713, train error 1.22,  val loss 0.427334, percent error 11.30\n",
            "Epoch    97, train loss 0.057559, train error 1.20,  val loss 0.425609, percent error 10.90\n",
            "Epoch    98, train loss 0.056473, train error 1.25,  val loss 0.426813, percent error 11.20\n",
            "Epoch    99, train loss 0.055882, train error 1.22,  val loss 0.432275, percent error 11.50\n"
          ]
        },
        {
          "output_type": "display_data",
          "data": {
            "text/plain": [
              "<Figure size 640x480 with 1 Axes>"
            ],
            "image/png": "[encoded data removed]"
          },
          "metadata": {}
        }
      ]
    }
  ]
}