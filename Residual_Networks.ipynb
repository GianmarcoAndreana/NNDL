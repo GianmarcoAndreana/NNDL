{
  "nbformat": 4,
  "nbformat_minor": 0,
  "metadata": {
    "colab": {
      "provenance": [],
      "include_colab_link": true
    },
    "kernelspec": {
      "name": "python3",
      "display_name": "Python 3"
    },
    "language_info": {
      "name": "python"
    }
  },
  "cells": [
    {
      "cell_type": "markdown",
      "metadata": {
        "id": "view-in-github",
        "colab_type": "text"
      },
      "source": [
        "<a href=\"https://colab.research.google.com/github/GianmarcoAndreana/NNDL/blob/main/Residual_Networks.ipynb\" target=\"_parent\"><img src=\"https://colab.research.google.com/assets/colab-badge.svg\" alt=\"Open In Colab\"/></a>"
      ]
    },
    {
      "cell_type": "markdown",
      "source": [
        "# **Residual Networks**\n",
        "\n"
      ],
      "metadata": {
        "id": "t9vk9Elugvmi"
      }
    },
    {
      "cell_type": "code",
      "source": [
        "# Run this if you're in a Colab to install MNIST 1D repository\n",
        "!pip install git+https://github.com/greydanus/mnist1d"
      ],
      "metadata": {
        "id": "D5yLObtZCi9J",
        "colab": {
          "base_uri": "https://localhost:8080/"
        },
        "outputId": "140e00d0-8cb8-4558-83b3-3167a204fc87"
      },
      "execution_count": 1,
      "outputs": [
        {
          "output_type": "stream",
          "name": "stdout",
          "text": [
            "Collecting git+https://github.com/greydanus/mnist1d\n",
            "  Cloning https://github.com/greydanus/mnist1d to /tmp/pip-req-build-id74u7y7\n",
            "  Running command git clone --filter=blob:none --quiet https://github.com/greydanus/mnist1d /tmp/pip-req-build-id74u7y7\n",
            "  Resolved https://github.com/greydanus/mnist1d to commit 7878d96082abd200c546a07a4101fa90b30fdf7e\n",
            "  Installing build dependencies ... \u001b[?25l\u001b[?25hdone\n",
            "  Getting requirements to build wheel ... \u001b[?25l\u001b[?25hdone\n",
            "  Preparing metadata (pyproject.toml) ... \u001b[?25l\u001b[?25hdone\n",
            "Requirement already satisfied: requests in /usr/local/lib/python3.11/dist-packages (from mnist1d==0.0.2.post16) (2.32.3)\n",
            "Requirement already satisfied: numpy in /usr/local/lib/python3.11/dist-packages (from mnist1d==0.0.2.post16) (2.0.2)\n",
            "Requirement already satisfied: matplotlib in /usr/local/lib/python3.11/dist-packages (from mnist1d==0.0.2.post16) (3.10.0)\n",
            "Requirement already satisfied: scipy in /usr/local/lib/python3.11/dist-packages (from mnist1d==0.0.2.post16) (1.14.1)\n",
            "Requirement already satisfied: contourpy>=1.0.1 in /usr/local/lib/python3.11/dist-packages (from matplotlib->mnist1d==0.0.2.post16) (1.3.1)\n",
            "Requirement already satisfied: cycler>=0.10 in /usr/local/lib/python3.11/dist-packages (from matplotlib->mnist1d==0.0.2.post16) (0.12.1)\n",
            "Requirement already satisfied: fonttools>=4.22.0 in /usr/local/lib/python3.11/dist-packages (from matplotlib->mnist1d==0.0.2.post16) (4.56.0)\n",
            "Requirement already satisfied: kiwisolver>=1.3.1 in /usr/local/lib/python3.11/dist-packages (from matplotlib->mnist1d==0.0.2.post16) (1.4.8)\n",
            "Requirement already satisfied: packaging>=20.0 in /usr/local/lib/python3.11/dist-packages (from matplotlib->mnist1d==0.0.2.post16) (24.2)\n",
            "Requirement already satisfied: pillow>=8 in /usr/local/lib/python3.11/dist-packages (from matplotlib->mnist1d==0.0.2.post16) (11.1.0)\n",
            "Requirement already satisfied: pyparsing>=2.3.1 in /usr/local/lib/python3.11/dist-packages (from matplotlib->mnist1d==0.0.2.post16) (3.2.1)\n",
            "Requirement already satisfied: python-dateutil>=2.7 in /usr/local/lib/python3.11/dist-packages (from matplotlib->mnist1d==0.0.2.post16) (2.8.2)\n",
            "Requirement already satisfied: charset-normalizer<4,>=2 in /usr/local/lib/python3.11/dist-packages (from requests->mnist1d==0.0.2.post16) (3.4.1)\n",
            "Requirement already satisfied: idna<4,>=2.5 in /usr/local/lib/python3.11/dist-packages (from requests->mnist1d==0.0.2.post16) (3.10)\n",
            "Requirement already satisfied: urllib3<3,>=1.21.1 in /usr/local/lib/python3.11/dist-packages (from requests->mnist1d==0.0.2.post16) (2.3.0)\n",
            "Requirement already satisfied: certifi>=2017.4.17 in /usr/local/lib/python3.11/dist-packages (from requests->mnist1d==0.0.2.post16) (2025.1.31)\n",
            "Requirement already satisfied: six>=1.5 in /usr/local/lib/python3.11/dist-packages (from python-dateutil>=2.7->matplotlib->mnist1d==0.0.2.post16) (1.17.0)\n",
            "Building wheels for collected packages: mnist1d\n",
            "  Building wheel for mnist1d (pyproject.toml) ... \u001b[?25l\u001b[?25hdone\n",
            "  Created wheel for mnist1d: filename=mnist1d-0.0.2.post16-py3-none-any.whl size=14664 sha256=eafe1ca17221d371b2f70a4a0d45a271fc78c71be71d988cb76790bc91ad55db\n",
            "  Stored in directory: /tmp/pip-ephem-wheel-cache-io9i0me2/wheels/d6/38/42/3d2112bc7d915f6195254ac85eb761d922d1b18f52817aa8e2\n",
            "Successfully built mnist1d\n",
            "Installing collected packages: mnist1d\n",
            "Successfully installed mnist1d-0.0.2.post16\n"
          ]
        }
      ]
    },
    {
      "cell_type": "code",
      "source": [
        "import numpy as np\n",
        "import os\n",
        "import torch, torch.nn as nn\n",
        "from torch.utils.data import TensorDataset, DataLoader\n",
        "from torch.optim.lr_scheduler import StepLR\n",
        "import matplotlib.pyplot as plt\n",
        "import mnist1d\n",
        "import random"
      ],
      "metadata": {
        "id": "YrXWAH7sUWvU"
      },
      "execution_count": 29,
      "outputs": []
    },
    {
      "cell_type": "code",
      "source": [
        "args = mnist1d.data.get_dataset_args()\n",
        "data = mnist1d.data.get_dataset(args, path='./mnist1d_data.pkl', download=False, regenerate=False)\n",
        "\n",
        "# The training and test input and outputs are in\n",
        "# data['x'], data['y'], data['x_test'], and data['y_test']\n",
        "print(\"Examples in training set: {}\".format(len(data['y'])))\n",
        "print(\"Examples in test set: {}\".format(len(data['y_test'])))\n",
        "print(\"Length of each example: {}\".format(data['x'].shape[-1]))"
      ],
      "metadata": {
        "id": "twI72ZCrCt5z",
        "colab": {
          "base_uri": "https://localhost:8080/"
        },
        "outputId": "c0b79e51-ef7a-4d99-f1b4-3d4cfa722937"
      },
      "execution_count": 41,
      "outputs": [
        {
          "output_type": "stream",
          "name": "stdout",
          "text": [
            "Successfully loaded data from ./mnist1d_data.pkl\n",
            "Examples in training set: 4000\n",
            "Examples in test set: 1000\n",
            "Length of each example: 40\n"
          ]
        }
      ]
    },
    {
      "cell_type": "code",
      "source": [
        "# Load in the data\n",
        "train_data_x = data['x'].transpose()\n",
        "train_data_y = data['y']\n",
        "val_data_x = data['x_test'].transpose()\n",
        "val_data_y = data['y_test']\n",
        "# Print out sizes\n",
        "print(\"Train data: %d examples (columns), each of which has %d dimensions (rows)\"%((train_data_x.shape[1],train_data_x.shape[0])))\n",
        "print(\"Validation data: %d examples (columns), each of which has %d dimensions (rows)\"%((val_data_x.shape[1],val_data_x.shape[0])))"
      ],
      "metadata": {
        "id": "8bKADvLHbiV5",
        "colab": {
          "base_uri": "https://localhost:8080/"
        },
        "outputId": "e13e23db-ff01-4aff-b972-bf7b3d5e1027"
      },
      "execution_count": 42,
      "outputs": [
        {
          "output_type": "stream",
          "name": "stdout",
          "text": [
            "Train data: 4000 examples (columns), each of which has 40 dimensions (rows)\n",
            "Validation data: 1000 examples (columns), each of which has 40 dimensions (rows)\n"
          ]
        }
      ]
    },
    {
      "cell_type": "markdown",
      "source": [
        "Define the network"
      ],
      "metadata": {
        "id": "_sFvRDGrl4qe"
      }
    },
    {
      "cell_type": "code",
      "source": [
        "# There are 40 input dimensions and 10 output dimensions for this data\n",
        "# The inputs correspond to the 40 offsets in the MNIST1D template.\n",
        "D_i = 40\n",
        "# The outputs correspond to the 10 digits\n",
        "D_o = 10\n",
        "\n",
        "\n",
        "# We will adapt this model to have residual connections around the linear layers\n",
        "# This is the same model we used in practical 8.1, but we can't use the sequential\n",
        "# class for residual networks (which aren't strictly sequential).  Hence, I've rewritten\n",
        "# it as a model that inherits from a base class\n",
        "\n",
        "class ResidualNetwork(torch.nn.Module):\n",
        "  def __init__(self, input_size, output_size, hidden_size=100):\n",
        "    super(ResidualNetwork, self).__init__()\n",
        "    self.linear1 = nn.Linear(input_size, hidden_size)\n",
        "    self.linear2 = nn.Linear(hidden_size, hidden_size)\n",
        "    self.linear3 = nn.Linear(hidden_size, hidden_size)\n",
        "    self.linear4 = nn.Linear(hidden_size, output_size)\n",
        "    print(\"Initialized MLPBase model with {} parameters\".format(self.count_params()))\n",
        "\n",
        "  def count_params(self):\n",
        "    return sum([p.view(-1).shape[0] for p in self.parameters()])\n",
        "\n",
        "# Add residual connections to this model\n",
        "# The order of operations within each block should be linear1 first,\n",
        "# ReLU+linear2 in first residual block, ReLU+linear3 in second residual block), linear4 at end\n",
        "\n",
        "  def forward(self, x):\n",
        "    h1 = self.linear1(x).relu()\n",
        "    h2 = self.linear2(h1).relu() + h1  # First residual connection\n",
        "    h3 = self.linear3(h2).relu() + h2  # Second residual connection\n",
        "    return self.linear4(h3)"
      ],
      "metadata": {
        "id": "FslroPJJffrh"
      },
      "execution_count": 38,
      "outputs": []
    },
    {
      "cell_type": "code",
      "source": [
        "# He initialization of weights\n",
        "def weights_init(layer_in):\n",
        "  if isinstance(layer_in, nn.Linear):\n",
        "    nn.init.kaiming_uniform_(layer_in.weight)\n",
        "    layer_in.bias.data.fill_(0.0)"
      ],
      "metadata": {
        "id": "YgLaex1pfhqz"
      },
      "execution_count": 43,
      "outputs": []
    },
    {
      "cell_type": "code",
      "source": [
        "#Define the model\n",
        "model = ResidualNetwork(40, 10)\n",
        "\n",
        "# choose cross entropy loss function (equation 5.24 in the loss notes)\n",
        "loss_function = nn.CrossEntropyLoss()\n",
        "# construct SGD optimizer and initialize learning rate and momentum\n",
        "optimizer = torch.optim.SGD(model.parameters(), lr = 0.05, momentum=0.9)\n",
        "# object that decreases learning rate by half every 20 epochs\n",
        "scheduler = StepLR(optimizer, step_size=20, gamma=0.5)\n",
        "# convert data to torch tensors\n",
        "x_train = torch.tensor(train_data_x.transpose().astype('float32'))\n",
        "y_train = torch.tensor(train_data_y.astype('long'))\n",
        "x_val= torch.tensor(val_data_x.transpose().astype('float32'))\n",
        "y_val = torch.tensor(val_data_y.astype('long'))\n",
        "\n",
        "# load the data into a class that creates the batches\n",
        "data_loader = DataLoader(TensorDataset(x_train,y_train), batch_size=100, shuffle=True, worker_init_fn=np.random.seed(1))\n",
        "\n",
        "# Initialize model weights\n",
        "model.apply(weights_init)\n",
        "\n",
        "# loop over the dataset n_epoch times\n",
        "n_epoch = 100\n",
        "# store the loss and the % correct at each epoch\n",
        "losses_train = np.zeros((n_epoch))\n",
        "errors_train = np.zeros((n_epoch))\n",
        "losses_val = np.zeros((n_epoch))\n",
        "errors_val = np.zeros((n_epoch))\n",
        "\n",
        "for epoch in range(n_epoch):\n",
        "  # loop over batches\n",
        "  for i, data in enumerate(data_loader):\n",
        "    # retrieve inputs and labels for this batch\n",
        "    x_batch, y_batch = data\n",
        "    # zero the parameter gradients\n",
        "    optimizer.zero_grad()\n",
        "    # forward pass -- calculate model output\n",
        "    pred = model(x_batch)\n",
        "    # compute the loss\n",
        "    loss = loss_function(pred, y_batch)\n",
        "    # backward pass\n",
        "    loss.backward()\n",
        "    # SGD update\n",
        "    optimizer.step()\n",
        "\n",
        "  # Run whole dataset to get statistics -- normally wouldn't do this\n",
        "  pred_train = model(x_train)\n",
        "  pred_val = model(x_val)\n",
        "  _, predicted_train_class = torch.max(pred_train.data, 1)\n",
        "  _, predicted_val_class = torch.max(pred_val.data, 1)\n",
        "  errors_train[epoch] = 100 - 100 * (predicted_train_class == y_train).float().sum() / len(y_train)\n",
        "  errors_val[epoch]= 100 - 100 * (predicted_val_class == y_val).float().sum() / len(y_val)\n",
        "  losses_train[epoch] = loss_function(pred_train, y_train).item()\n",
        "  losses_val[epoch]= loss_function(pred_val, y_val).item()\n",
        "  print(f'Epoch {epoch:5d}, train loss {losses_train[epoch]:.6f}, train error {errors_train[epoch]:3.2f},  val loss {losses_val[epoch]:.6f}, percent error {errors_val[epoch]:3.2f}')\n",
        "\n",
        "  # tell scheduler to consider updating learning rate\n",
        "  scheduler.step()"
      ],
      "metadata": {
        "id": "NYw8I_3mmX5c",
        "colab": {
          "base_uri": "https://localhost:8080/"
        },
        "outputId": "fe4648c1-3243-4669-ec73-ce997e36bb2d"
      },
      "execution_count": 44,
      "outputs": [
        {
          "output_type": "stream",
          "name": "stdout",
          "text": [
            "Initialized MLPBase model with 25310 parameters\n",
            "Epoch     0, train loss 1.562827, train error 61.08,  val loss 1.629493, percent error 65.60\n",
            "Epoch     1, train loss 1.299403, train error 49.60,  val loss 1.432969, percent error 55.40\n",
            "Epoch     2, train loss 1.086205, train error 39.70,  val loss 1.284435, percent error 51.90\n",
            "Epoch     3, train loss 0.934927, train error 33.68,  val loss 1.216508, percent error 46.60\n",
            "Epoch     4, train loss 0.824454, train error 30.45,  val loss 1.144741, percent error 44.20\n",
            "Epoch     5, train loss 0.734315, train error 26.78,  val loss 1.163740, percent error 42.30\n",
            "Epoch     6, train loss 0.621603, train error 22.03,  val loss 1.115316, percent error 40.60\n",
            "Epoch     7, train loss 0.557364, train error 19.65,  val loss 1.162032, percent error 41.80\n",
            "Epoch     8, train loss 0.447068, train error 15.30,  val loss 1.100008, percent error 38.30\n",
            "Epoch     9, train loss 0.402026, train error 13.75,  val loss 1.143726, percent error 37.70\n",
            "Epoch    10, train loss 0.376165, train error 12.18,  val loss 1.182819, percent error 38.30\n",
            "Epoch    11, train loss 0.294421, train error 9.30,  val loss 1.144156, percent error 36.20\n",
            "Epoch    12, train loss 0.276578, train error 9.40,  val loss 1.359602, percent error 39.80\n",
            "Epoch    13, train loss 0.224071, train error 7.45,  val loss 1.301655, percent error 36.60\n",
            "Epoch    14, train loss 0.191292, train error 6.47,  val loss 1.350166, percent error 36.90\n",
            "Epoch    15, train loss 0.147767, train error 4.22,  val loss 1.320778, percent error 35.90\n",
            "Epoch    16, train loss 0.154196, train error 4.72,  val loss 1.370705, percent error 35.50\n",
            "Epoch    17, train loss 0.130671, train error 4.03,  val loss 1.450232, percent error 37.60\n",
            "Epoch    18, train loss 0.187386, train error 6.85,  val loss 1.751962, percent error 38.50\n",
            "Epoch    19, train loss 0.189203, train error 6.35,  val loss 1.805612, percent error 40.00\n",
            "Epoch    20, train loss 0.036812, train error 0.30,  val loss 1.441764, percent error 33.50\n",
            "Epoch    21, train loss 0.021008, train error 0.00,  val loss 1.441868, percent error 33.00\n",
            "Epoch    22, train loss 0.013910, train error 0.00,  val loss 1.444653, percent error 32.50\n",
            "Epoch    23, train loss 0.011482, train error 0.00,  val loss 1.467102, percent error 32.00\n",
            "Epoch    24, train loss 0.010040, train error 0.00,  val loss 1.486168, percent error 32.40\n",
            "Epoch    25, train loss 0.008900, train error 0.00,  val loss 1.508023, percent error 31.90\n",
            "Epoch    26, train loss 0.008060, train error 0.00,  val loss 1.521568, percent error 32.00\n",
            "Epoch    27, train loss 0.007426, train error 0.00,  val loss 1.535479, percent error 32.30\n",
            "Epoch    28, train loss 0.006846, train error 0.00,  val loss 1.550998, percent error 32.30\n",
            "Epoch    29, train loss 0.006367, train error 0.00,  val loss 1.560657, percent error 32.20\n",
            "Epoch    30, train loss 0.005928, train error 0.00,  val loss 1.576221, percent error 32.30\n",
            "Epoch    31, train loss 0.005601, train error 0.00,  val loss 1.590705, percent error 32.60\n",
            "Epoch    32, train loss 0.005273, train error 0.00,  val loss 1.598281, percent error 32.10\n",
            "Epoch    33, train loss 0.004976, train error 0.00,  val loss 1.609874, percent error 32.50\n",
            "Epoch    34, train loss 0.004709, train error 0.00,  val loss 1.619698, percent error 32.20\n",
            "Epoch    35, train loss 0.004495, train error 0.00,  val loss 1.631212, percent error 32.20\n",
            "Epoch    36, train loss 0.004280, train error 0.00,  val loss 1.640075, percent error 31.80\n",
            "Epoch    37, train loss 0.004099, train error 0.00,  val loss 1.645881, percent error 31.80\n",
            "Epoch    38, train loss 0.003919, train error 0.00,  val loss 1.656590, percent error 31.90\n",
            "Epoch    39, train loss 0.003754, train error 0.00,  val loss 1.665221, percent error 31.70\n",
            "Epoch    40, train loss 0.003676, train error 0.00,  val loss 1.669315, percent error 31.80\n",
            "Epoch    41, train loss 0.003605, train error 0.00,  val loss 1.672902, percent error 31.80\n",
            "Epoch    42, train loss 0.003539, train error 0.00,  val loss 1.677741, percent error 31.60\n",
            "Epoch    43, train loss 0.003474, train error 0.00,  val loss 1.680965, percent error 31.60\n",
            "Epoch    44, train loss 0.003411, train error 0.00,  val loss 1.684571, percent error 31.80\n",
            "Epoch    45, train loss 0.003350, train error 0.00,  val loss 1.688046, percent error 31.70\n",
            "Epoch    46, train loss 0.003292, train error 0.00,  val loss 1.691079, percent error 31.50\n",
            "Epoch    47, train loss 0.003234, train error 0.00,  val loss 1.695561, percent error 31.40\n",
            "Epoch    48, train loss 0.003182, train error 0.00,  val loss 1.698481, percent error 31.60\n",
            "Epoch    49, train loss 0.003127, train error 0.00,  val loss 1.702956, percent error 31.60\n",
            "Epoch    50, train loss 0.003076, train error 0.00,  val loss 1.706132, percent error 31.60\n",
            "Epoch    51, train loss 0.003025, train error 0.00,  val loss 1.709378, percent error 31.50\n",
            "Epoch    52, train loss 0.002977, train error 0.00,  val loss 1.713049, percent error 31.50\n",
            "Epoch    53, train loss 0.002929, train error 0.00,  val loss 1.716206, percent error 31.60\n",
            "Epoch    54, train loss 0.002884, train error 0.00,  val loss 1.718719, percent error 31.70\n",
            "Epoch    55, train loss 0.002841, train error 0.00,  val loss 1.722525, percent error 31.60\n",
            "Epoch    56, train loss 0.002797, train error 0.00,  val loss 1.725643, percent error 31.60\n",
            "Epoch    57, train loss 0.002756, train error 0.00,  val loss 1.729463, percent error 31.60\n",
            "Epoch    58, train loss 0.002714, train error 0.00,  val loss 1.731727, percent error 31.60\n",
            "Epoch    59, train loss 0.002674, train error 0.00,  val loss 1.735029, percent error 31.60\n",
            "Epoch    60, train loss 0.002655, train error 0.00,  val loss 1.736546, percent error 31.60\n",
            "Epoch    61, train loss 0.002636, train error 0.00,  val loss 1.738454, percent error 31.60\n",
            "Epoch    62, train loss 0.002617, train error 0.00,  val loss 1.739696, percent error 31.60\n",
            "Epoch    63, train loss 0.002599, train error 0.00,  val loss 1.740703, percent error 31.60\n",
            "Epoch    64, train loss 0.002580, train error 0.00,  val loss 1.742468, percent error 31.60\n",
            "Epoch    65, train loss 0.002562, train error 0.00,  val loss 1.744418, percent error 31.60\n",
            "Epoch    66, train loss 0.002545, train error 0.00,  val loss 1.746167, percent error 31.60\n",
            "Epoch    67, train loss 0.002527, train error 0.00,  val loss 1.747112, percent error 31.60\n",
            "Epoch    68, train loss 0.002510, train error 0.00,  val loss 1.748611, percent error 31.60\n",
            "Epoch    69, train loss 0.002493, train error 0.00,  val loss 1.749740, percent error 31.60\n",
            "Epoch    70, train loss 0.002476, train error 0.00,  val loss 1.751366, percent error 31.70\n",
            "Epoch    71, train loss 0.002460, train error 0.00,  val loss 1.752604, percent error 31.70\n",
            "Epoch    72, train loss 0.002444, train error 0.00,  val loss 1.753551, percent error 31.60\n",
            "Epoch    73, train loss 0.002428, train error 0.00,  val loss 1.755847, percent error 31.70\n",
            "Epoch    74, train loss 0.002412, train error 0.00,  val loss 1.756950, percent error 31.70\n",
            "Epoch    75, train loss 0.002396, train error 0.00,  val loss 1.758442, percent error 31.70\n",
            "Epoch    76, train loss 0.002381, train error 0.00,  val loss 1.759490, percent error 31.70\n",
            "Epoch    77, train loss 0.002365, train error 0.00,  val loss 1.760823, percent error 31.70\n",
            "Epoch    78, train loss 0.002350, train error 0.00,  val loss 1.762301, percent error 31.70\n",
            "Epoch    79, train loss 0.002336, train error 0.00,  val loss 1.763604, percent error 31.70\n",
            "Epoch    80, train loss 0.002328, train error 0.00,  val loss 1.764176, percent error 31.70\n",
            "Epoch    81, train loss 0.002320, train error 0.00,  val loss 1.765029, percent error 31.70\n",
            "Epoch    82, train loss 0.002313, train error 0.00,  val loss 1.765549, percent error 31.70\n",
            "Epoch    83, train loss 0.002306, train error 0.00,  val loss 1.766064, percent error 31.70\n",
            "Epoch    84, train loss 0.002299, train error 0.00,  val loss 1.766907, percent error 31.70\n",
            "Epoch    85, train loss 0.002291, train error 0.00,  val loss 1.767579, percent error 31.70\n",
            "Epoch    86, train loss 0.002284, train error 0.00,  val loss 1.768213, percent error 31.70\n",
            "Epoch    87, train loss 0.002277, train error 0.00,  val loss 1.768706, percent error 31.70\n",
            "Epoch    88, train loss 0.002270, train error 0.00,  val loss 1.769409, percent error 31.70\n",
            "Epoch    89, train loss 0.002263, train error 0.00,  val loss 1.770211, percent error 31.70\n",
            "Epoch    90, train loss 0.002256, train error 0.00,  val loss 1.770597, percent error 31.70\n",
            "Epoch    91, train loss 0.002249, train error 0.00,  val loss 1.771557, percent error 31.70\n",
            "Epoch    92, train loss 0.002242, train error 0.00,  val loss 1.772024, percent error 31.70\n",
            "Epoch    93, train loss 0.002236, train error 0.00,  val loss 1.772731, percent error 31.70\n",
            "Epoch    94, train loss 0.002229, train error 0.00,  val loss 1.773288, percent error 31.70\n",
            "Epoch    95, train loss 0.002222, train error 0.00,  val loss 1.773946, percent error 31.70\n",
            "Epoch    96, train loss 0.002215, train error 0.00,  val loss 1.774651, percent error 31.70\n",
            "Epoch    97, train loss 0.002208, train error 0.00,  val loss 1.775236, percent error 31.70\n",
            "Epoch    98, train loss 0.002202, train error 0.00,  val loss 1.775689, percent error 31.70\n",
            "Epoch    99, train loss 0.002195, train error 0.00,  val loss 1.776586, percent error 31.70\n"
          ]
        }
      ]
    },
    {
      "cell_type": "code",
      "source": [
        "# Plot the results\n",
        "fig, ax = plt.subplots()\n",
        "ax.plot(errors_train,'r-',label='train')\n",
        "ax.plot(errors_val,'b-',label='test')\n",
        "ax.set_ylim(0,100); ax.set_xlim(0,n_epoch)\n",
        "ax.set_xlabel('Epoch'); ax.set_ylabel('Error')\n",
        "ax.set_title('TrainError %3.2f, Val Error %3.2f'%(errors_train[-1],errors_val[-1]))\n",
        "ax.legend()\n",
        "plt.show()"
      ],
      "metadata": {
        "id": "CcP_VyEmE2sv",
        "colab": {
          "base_uri": "https://localhost:8080/",
          "height": 472
        },
        "outputId": "0641e8ab-5410-4b88-bc79-d7989652b441"
      },
      "execution_count": 45,
      "outputs": [
        {
          "output_type": "display_data",
          "data": {
            "text/plain": [
              "<Figure size 640x480 with 1 Axes>"
            ],
            "image/png": "[encoded data removed]"
          },
          "metadata": {}
        }
      ]
    },
    {
      "cell_type": "markdown",
      "source": [
        "The primary motivation of residual networks is to allow training of much deeper networks.   \n",
        "\n",
        "Lets try running this network with and without the residual connections.  Does adding the residual connections change the performance?"
      ],
      "metadata": {
        "id": "wMmqhmxuAx0M"
      }
    },
    {
      "cell_type": "code",
      "source": [
        "args = mnist1d.data.get_dataset_args()\n",
        "data = mnist1d.data.get_dataset(args, path='./mnist1d_data.pkl', download=False, regenerate=False)\n",
        "\n",
        "# The training and test input and outputs are in\n",
        "# data['x'], data['y'], data['x_test'], and data['y_test']\n",
        "print(\"Examples in training set: {}\".format(len(data['y'])))\n",
        "print(\"Examples in test set: {}\".format(len(data['y_test'])))\n",
        "print(\"Length of each example: {}\".format(data['x'].shape[-1]))"
      ],
      "metadata": {
        "colab": {
          "base_uri": "https://localhost:8080/"
        },
        "outputId": "4dc90292-0a22-45a3-a6ac-26c832465e72",
        "id": "v7S8nq8q2aTO"
      },
      "execution_count": 50,
      "outputs": [
        {
          "output_type": "stream",
          "name": "stdout",
          "text": [
            "Successfully loaded data from ./mnist1d_data.pkl\n",
            "Examples in training set: 4000\n",
            "Examples in test set: 1000\n",
            "Length of each example: 40\n"
          ]
        }
      ]
    },
    {
      "cell_type": "code",
      "source": [
        "# Load in the data\n",
        "train_data_x = data['x'].transpose()\n",
        "train_data_y = data['y']\n",
        "val_data_x = data['x_test'].transpose()\n",
        "val_data_y = data['y_test']\n",
        "# Print out sizes\n",
        "print(\"Train data: %d examples (columns), each of which has %d dimensions (rows)\"%((train_data_x.shape[1],train_data_x.shape[0])))\n",
        "print(\"Validation data: %d examples (columns), each of which has %d dimensions (rows)\"%((val_data_x.shape[1],val_data_x.shape[0])))"
      ],
      "metadata": {
        "colab": {
          "base_uri": "https://localhost:8080/"
        },
        "outputId": "7859d9b4-10ce-4b88-8139-b92e10bfde12",
        "id": "ihV5fojM2aTd"
      },
      "execution_count": 51,
      "outputs": [
        {
          "output_type": "stream",
          "name": "stdout",
          "text": [
            "Train data: 4000 examples (columns), each of which has 40 dimensions (rows)\n",
            "Validation data: 1000 examples (columns), each of which has 40 dimensions (rows)\n"
          ]
        }
      ]
    },
    {
      "cell_type": "code",
      "source": [
        "class NoResidualNetwork(torch.nn.Module):\n",
        "  def __init__(self, input_size, output_size, hidden_size=100):\n",
        "    super(NoResidualNetwork, self).__init__()\n",
        "    self.linear1 = nn.Linear(input_size, hidden_size)\n",
        "    self.linear2 = nn.Linear(hidden_size, hidden_size)\n",
        "    self.linear3 = nn.Linear(hidden_size, hidden_size)\n",
        "    self.linear4 = nn.Linear(hidden_size, output_size)\n",
        "    print(\"Initialized MLPBase model with {} parameters\".format(self.count_params()))\n",
        "\n",
        "  def count_params(self):\n",
        "    return sum([p.view(-1).shape[0] for p in self.parameters()])\n",
        "\n",
        "# Add residual connections to this model\n",
        "# The order of operations within each block should be linear1 first,\n",
        "# ReLU+linear2 in first residual block, ReLU+linear3 in second residual block), linear4 at end\n",
        "\n",
        "  def forward(self, x):\n",
        "    h1 = self.linear1(x).relu()\n",
        "    h2 = self.linear2(h1).relu()\n",
        "    h3 = self.linear3(h2).relu()\n",
        "    return self.linear4(h3)"
      ],
      "metadata": {
        "id": "Lpef5jUozCrr"
      },
      "execution_count": 52,
      "outputs": []
    },
    {
      "cell_type": "code",
      "source": [
        "#Define the model\n",
        "model = NoResidualNetwork(40, 10)\n",
        "\n",
        "# choose cross entropy loss function (equation 5.24 in the loss notes)\n",
        "loss_function = nn.CrossEntropyLoss()\n",
        "# construct SGD optimizer and initialize learning rate and momentum\n",
        "optimizer = torch.optim.SGD(model.parameters(), lr = 0.05, momentum=0.9)\n",
        "# object that decreases learning rate by half every 20 epochs\n",
        "scheduler = StepLR(optimizer, step_size=20, gamma=0.5)\n",
        "# convert data to torch tensors\n",
        "x_train = torch.tensor(train_data_x.transpose().astype('float32'))\n",
        "y_train = torch.tensor(train_data_y.astype('long'))\n",
        "x_val= torch.tensor(val_data_x.transpose().astype('float32'))\n",
        "y_val = torch.tensor(val_data_y.astype('long'))\n",
        "\n",
        "# load the data into a class that creates the batches\n",
        "data_loader = DataLoader(TensorDataset(x_train,y_train), batch_size=100, shuffle=True, worker_init_fn=np.random.seed(1))\n",
        "\n",
        "# Initialize model weights\n",
        "model.apply(weights_init)\n",
        "\n",
        "# loop over the dataset n_epoch times\n",
        "n_epoch = 100\n",
        "# store the loss and the % correct at each epoch\n",
        "losses_train = np.zeros((n_epoch))\n",
        "errors_train = np.zeros((n_epoch))\n",
        "losses_val = np.zeros((n_epoch))\n",
        "errors_val = np.zeros((n_epoch))\n",
        "\n",
        "for epoch in range(n_epoch):\n",
        "  # loop over batches\n",
        "  for i, data in enumerate(data_loader):\n",
        "    # retrieve inputs and labels for this batch\n",
        "    x_batch, y_batch = data\n",
        "    # zero the parameter gradients\n",
        "    optimizer.zero_grad()\n",
        "    # forward pass -- calculate model output\n",
        "    pred = model(x_batch)\n",
        "    # compute the loss\n",
        "    loss = loss_function(pred, y_batch)\n",
        "    # backward pass\n",
        "    loss.backward()\n",
        "    # SGD update\n",
        "    optimizer.step()\n",
        "\n",
        "  # Run whole dataset to get statistics -- normally wouldn't do this\n",
        "  pred_train = model(x_train)\n",
        "  pred_val = model(x_val)\n",
        "  _, predicted_train_class = torch.max(pred_train.data, 1)\n",
        "  _, predicted_val_class = torch.max(pred_val.data, 1)\n",
        "  errors_train[epoch] = 100 - 100 * (predicted_train_class == y_train).float().sum() / len(y_train)\n",
        "  errors_val[epoch]= 100 - 100 * (predicted_val_class == y_val).float().sum() / len(y_val)\n",
        "  losses_train[epoch] = loss_function(pred_train, y_train).item()\n",
        "  losses_val[epoch]= loss_function(pred_val, y_val).item()\n",
        "  print(f'Epoch {epoch:5d}, train loss {losses_train[epoch]:.6f}, train error {errors_train[epoch]:3.2f},  val loss {losses_val[epoch]:.6f}, percent error {errors_val[epoch]:3.2f}')\n",
        "\n",
        "  # tell scheduler to consider updating learning rate\n",
        "  scheduler.step()"
      ],
      "metadata": {
        "colab": {
          "base_uri": "https://localhost:8080/"
        },
        "id": "kfo9gwZFzXje",
        "outputId": "610adc14-babc-4148-aec1-4e3b4b7aa1f2"
      },
      "execution_count": 56,
      "outputs": [
        {
          "output_type": "stream",
          "name": "stdout",
          "text": [
            "Initialized MLPBase model with 25310 parameters\n",
            "Epoch     0, train loss 1.648174, train error 63.78,  val loss 1.702131, percent error 67.70\n",
            "Epoch     1, train loss 1.358233, train error 51.22,  val loss 1.476682, percent error 58.80\n",
            "Epoch     2, train loss 1.152579, train error 42.70,  val loss 1.353587, percent error 52.30\n",
            "Epoch     3, train loss 1.028709, train error 39.35,  val loss 1.292890, percent error 51.10\n",
            "Epoch     4, train loss 0.908829, train error 33.62,  val loss 1.262968, percent error 48.60\n",
            "Epoch     5, train loss 0.729383, train error 25.72,  val loss 1.174351, percent error 46.50\n",
            "Epoch     6, train loss 0.758286, train error 27.43,  val loss 1.272756, percent error 46.50\n",
            "Epoch     7, train loss 0.520623, train error 17.15,  val loss 1.112433, percent error 41.20\n",
            "Epoch     8, train loss 0.473261, train error 16.05,  val loss 1.177319, percent error 41.10\n",
            "Epoch     9, train loss 0.415365, train error 14.12,  val loss 1.188966, percent error 40.80\n",
            "Epoch    10, train loss 0.351734, train error 11.68,  val loss 1.163366, percent error 40.20\n",
            "Epoch    11, train loss 0.290776, train error 9.78,  val loss 1.262636, percent error 38.10\n",
            "Epoch    12, train loss 0.276980, train error 9.45,  val loss 1.236593, percent error 39.00\n",
            "Epoch    13, train loss 0.229154, train error 7.75,  val loss 1.371684, percent error 39.50\n",
            "Epoch    14, train loss 0.187568, train error 6.18,  val loss 1.421896, percent error 39.30\n",
            "Epoch    15, train loss 0.131077, train error 3.60,  val loss 1.357362, percent error 36.20\n",
            "Epoch    16, train loss 0.119440, train error 3.20,  val loss 1.454207, percent error 37.60\n",
            "Epoch    17, train loss 0.130008, train error 4.00,  val loss 1.427172, percent error 35.80\n",
            "Epoch    18, train loss 0.132041, train error 4.22,  val loss 1.606036, percent error 36.70\n",
            "Epoch    19, train loss 0.142840, train error 4.75,  val loss 1.572342, percent error 37.30\n",
            "Epoch    20, train loss 0.035665, train error 0.32,  val loss 1.475942, percent error 35.50\n",
            "Epoch    21, train loss 0.018754, train error 0.05,  val loss 1.512022, percent error 34.50\n",
            "Epoch    22, train loss 0.011738, train error 0.00,  val loss 1.531323, percent error 34.60\n",
            "Epoch    23, train loss 0.009275, train error 0.00,  val loss 1.548595, percent error 33.60\n",
            "Epoch    24, train loss 0.007753, train error 0.00,  val loss 1.573312, percent error 33.50\n",
            "Epoch    25, train loss 0.006832, train error 0.00,  val loss 1.594907, percent error 33.40\n",
            "Epoch    26, train loss 0.006181, train error 0.00,  val loss 1.615376, percent error 33.30\n",
            "Epoch    27, train loss 0.005642, train error 0.00,  val loss 1.634978, percent error 33.70\n",
            "Epoch    28, train loss 0.005213, train error 0.00,  val loss 1.653806, percent error 33.60\n",
            "Epoch    29, train loss 0.004830, train error 0.00,  val loss 1.664346, percent error 33.80\n",
            "Epoch    30, train loss 0.004521, train error 0.00,  val loss 1.677588, percent error 33.80\n",
            "Epoch    31, train loss 0.004269, train error 0.00,  val loss 1.692796, percent error 33.80\n",
            "Epoch    32, train loss 0.004028, train error 0.00,  val loss 1.706280, percent error 33.80\n",
            "Epoch    33, train loss 0.003796, train error 0.00,  val loss 1.716351, percent error 33.80\n",
            "Epoch    34, train loss 0.003593, train error 0.00,  val loss 1.728219, percent error 33.60\n",
            "Epoch    35, train loss 0.003428, train error 0.00,  val loss 1.735679, percent error 33.70\n",
            "Epoch    36, train loss 0.003267, train error 0.00,  val loss 1.748096, percent error 33.60\n",
            "Epoch    37, train loss 0.003118, train error 0.00,  val loss 1.756502, percent error 33.70\n",
            "Epoch    38, train loss 0.002988, train error 0.00,  val loss 1.765804, percent error 33.50\n",
            "Epoch    39, train loss 0.002869, train error 0.00,  val loss 1.776742, percent error 33.50\n",
            "Epoch    40, train loss 0.002805, train error 0.00,  val loss 1.780512, percent error 33.60\n",
            "Epoch    41, train loss 0.002752, train error 0.00,  val loss 1.784175, percent error 33.50\n",
            "Epoch    42, train loss 0.002700, train error 0.00,  val loss 1.788010, percent error 33.50\n",
            "Epoch    43, train loss 0.002651, train error 0.00,  val loss 1.793442, percent error 33.50\n",
            "Epoch    44, train loss 0.002602, train error 0.00,  val loss 1.796075, percent error 33.60\n",
            "Epoch    45, train loss 0.002557, train error 0.00,  val loss 1.801120, percent error 33.60\n",
            "Epoch    46, train loss 0.002512, train error 0.00,  val loss 1.804050, percent error 33.60\n",
            "Epoch    47, train loss 0.002469, train error 0.00,  val loss 1.808562, percent error 33.60\n",
            "Epoch    48, train loss 0.002427, train error 0.00,  val loss 1.811257, percent error 33.70\n",
            "Epoch    49, train loss 0.002387, train error 0.00,  val loss 1.815263, percent error 33.30\n",
            "Epoch    50, train loss 0.002349, train error 0.00,  val loss 1.819506, percent error 33.60\n",
            "Epoch    51, train loss 0.002311, train error 0.00,  val loss 1.823123, percent error 33.60\n",
            "Epoch    52, train loss 0.002275, train error 0.00,  val loss 1.826357, percent error 33.50\n",
            "Epoch    53, train loss 0.002239, train error 0.00,  val loss 1.829423, percent error 33.60\n",
            "Epoch    54, train loss 0.002205, train error 0.00,  val loss 1.833033, percent error 33.90\n",
            "Epoch    55, train loss 0.002171, train error 0.00,  val loss 1.836263, percent error 33.50\n",
            "Epoch    56, train loss 0.002140, train error 0.00,  val loss 1.839567, percent error 33.70\n",
            "Epoch    57, train loss 0.002108, train error 0.00,  val loss 1.842786, percent error 33.70\n",
            "Epoch    58, train loss 0.002077, train error 0.00,  val loss 1.846546, percent error 33.60\n",
            "Epoch    59, train loss 0.002048, train error 0.00,  val loss 1.849367, percent error 33.60\n",
            "Epoch    60, train loss 0.002033, train error 0.00,  val loss 1.851389, percent error 33.60\n",
            "Epoch    61, train loss 0.002019, train error 0.00,  val loss 1.852550, percent error 33.60\n",
            "Epoch    62, train loss 0.002005, train error 0.00,  val loss 1.854374, percent error 33.60\n",
            "Epoch    63, train loss 0.001991, train error 0.00,  val loss 1.855528, percent error 33.50\n",
            "Epoch    64, train loss 0.001978, train error 0.00,  val loss 1.857369, percent error 33.60\n",
            "Epoch    65, train loss 0.001964, train error 0.00,  val loss 1.858994, percent error 33.50\n",
            "Epoch    66, train loss 0.001951, train error 0.00,  val loss 1.860016, percent error 33.60\n",
            "Epoch    67, train loss 0.001937, train error 0.00,  val loss 1.861956, percent error 33.60\n",
            "Epoch    68, train loss 0.001925, train error 0.00,  val loss 1.863620, percent error 33.70\n",
            "Epoch    69, train loss 0.001912, train error 0.00,  val loss 1.864870, percent error 33.70\n",
            "Epoch    70, train loss 0.001900, train error 0.00,  val loss 1.866531, percent error 33.60\n",
            "Epoch    71, train loss 0.001887, train error 0.00,  val loss 1.868022, percent error 33.80\n",
            "Epoch    72, train loss 0.001875, train error 0.00,  val loss 1.869372, percent error 33.80\n",
            "Epoch    73, train loss 0.001863, train error 0.00,  val loss 1.870713, percent error 33.70\n",
            "Epoch    74, train loss 0.001851, train error 0.00,  val loss 1.872645, percent error 33.80\n",
            "Epoch    75, train loss 0.001839, train error 0.00,  val loss 1.873821, percent error 33.70\n",
            "Epoch    76, train loss 0.001827, train error 0.00,  val loss 1.875379, percent error 33.80\n",
            "Epoch    77, train loss 0.001816, train error 0.00,  val loss 1.876362, percent error 33.70\n",
            "Epoch    78, train loss 0.001805, train error 0.00,  val loss 1.878223, percent error 33.80\n",
            "Epoch    79, train loss 0.001793, train error 0.00,  val loss 1.879486, percent error 33.80\n",
            "Epoch    80, train loss 0.001788, train error 0.00,  val loss 1.880271, percent error 33.80\n",
            "Epoch    81, train loss 0.001782, train error 0.00,  val loss 1.881040, percent error 33.80\n",
            "Epoch    82, train loss 0.001777, train error 0.00,  val loss 1.881758, percent error 33.80\n",
            "Epoch    83, train loss 0.001771, train error 0.00,  val loss 1.882486, percent error 33.80\n",
            "Epoch    84, train loss 0.001766, train error 0.00,  val loss 1.883091, percent error 33.80\n",
            "Epoch    85, train loss 0.001760, train error 0.00,  val loss 1.883898, percent error 33.80\n",
            "Epoch    86, train loss 0.001755, train error 0.00,  val loss 1.884566, percent error 33.80\n",
            "Epoch    87, train loss 0.001750, train error 0.00,  val loss 1.885159, percent error 33.80\n",
            "Epoch    88, train loss 0.001744, train error 0.00,  val loss 1.885894, percent error 33.80\n",
            "Epoch    89, train loss 0.001739, train error 0.00,  val loss 1.886520, percent error 33.80\n",
            "Epoch    90, train loss 0.001734, train error 0.00,  val loss 1.887435, percent error 33.80\n",
            "Epoch    91, train loss 0.001729, train error 0.00,  val loss 1.887903, percent error 33.80\n",
            "Epoch    92, train loss 0.001723, train error 0.00,  val loss 1.888571, percent error 33.80\n",
            "Epoch    93, train loss 0.001718, train error 0.00,  val loss 1.889438, percent error 33.80\n",
            "Epoch    94, train loss 0.001713, train error 0.00,  val loss 1.890108, percent error 33.80\n",
            "Epoch    95, train loss 0.001708, train error 0.00,  val loss 1.890737, percent error 33.80\n",
            "Epoch    96, train loss 0.001703, train error 0.00,  val loss 1.891398, percent error 33.80\n",
            "Epoch    97, train loss 0.001698, train error 0.00,  val loss 1.892071, percent error 33.80\n",
            "Epoch    98, train loss 0.001693, train error 0.00,  val loss 1.892897, percent error 33.80\n",
            "Epoch    99, train loss 0.001688, train error 0.00,  val loss 1.893467, percent error 33.80\n"
          ]
        }
      ]
    },
    {
      "cell_type": "code",
      "source": [
        "# Plot the results\n",
        "fig, ax = plt.subplots()\n",
        "ax.plot(errors_train,'r-',label='train')\n",
        "ax.plot(errors_val,'b-',label='test')\n",
        "ax.set_ylim(0,100); ax.set_xlim(0,n_epoch)\n",
        "ax.set_xlabel('Epoch'); ax.set_ylabel('Error')\n",
        "ax.set_title('TrainError %3.2f, Val Error %3.2f'%(errors_train[-1],errors_val[-1]))\n",
        "ax.legend()\n",
        "plt.show()"
      ],
      "metadata": {
        "colab": {
          "base_uri": "https://localhost:8080/",
          "height": 472
        },
        "id": "_-KPxkt4zgZH",
        "outputId": "6a255f6d-b133-471e-aa42-bfdff1715577"
      },
      "execution_count": 14,
      "outputs": [
        {
          "output_type": "display_data",
          "data": {
            "text/plain": [
              "<Figure size 640x480 with 1 Axes>"
            ],
            "image/png": "[encoded data removed]"
          },
          "metadata": {}
        }
      ]
    },
    {
      "cell_type": "markdown",
      "source": [
        "Residual connections tend to be most beneficial in much deeper networks where issues like vanishing gradients and degradation of representation can be a problem. In a relatively shallow network like this one—with only a few layers—the benefits might not be as pronounced."
      ],
      "metadata": {
        "id": "-FmREOk73pNd"
      }
    }
  ]
}