{
  "nbformat": 4,
  "nbformat_minor": 0,
  "metadata": {
    "colab": {
      "provenance": [],
      "authorship_tag": "ABX9TyMds8LkpAM1DvRSog4mXgnm",
      "include_colab_link": true
    },
    "kernelspec": {
      "name": "python3",
      "display_name": "Python 3"
    },
    "language_info": {
      "name": "python"
    }
  },
  "cells": [
    {
      "cell_type": "markdown",
      "metadata": {
        "id": "view-in-github",
        "colab_type": "text"
      },
      "source": [
        "<a href=\"https://colab.research.google.com/github/GianmarcoAndreana/NNDL/blob/main/Perceptron_in_Pytorch.ipynb\" target=\"_parent\"><img src=\"https://colab.research.google.com/assets/colab-badge.svg\" alt=\"Open In Colab\"/></a>"
      ]
    },
    {
      "cell_type": "code",
      "execution_count": null,
      "metadata": {
        "id": "EdJBAv6qxC3U"
      },
      "outputs": [],
      "source": [
        "####################\n",
        "#wget file\n",
        "####################\n",
        "!wget https://archive.ics.uci.edu/static/public/17/breast+cancer+wisconsin+diagnostic.zip\n",
        "!unzip breast+cancer+wisconsin+diagnostic.zip\n",
        "!ls\n",
        "#!cat wdbc.data\n",
        "#!cat wdbc.names"
      ]
    },
    {
      "cell_type": "code",
      "source": [
        "####################\n",
        "#import to pandas\n",
        "####################\n",
        "import pandas as pd\n",
        "\n",
        "# Load the dataset to inspect its contents\n",
        "file_path = 'wdbc.data'\n",
        "data = pd.read_csv(file_path, header=None)\n",
        "\n",
        "# Assign column names based on the Breast Cancer Wisconsin dataset documentation\n",
        "columns = ['ID', 'Diagnosis'] + [f'Feature_{i}' for i in range(1, 31)]\n",
        "data.columns = columns\n",
        "\n",
        "# Display the first few rows to understand the structure\n",
        "data.head()"
      ],
      "metadata": {
        "id": "0aFHebXZxJKF"
      },
      "execution_count": null,
      "outputs": []
    },
    {
      "cell_type": "code",
      "source": [
        "####################\n",
        "#convert data to numpy\n",
        "####################\n",
        "import numpy as np\n",
        "\n",
        "# Convert the diagnosis column into numerical values for plotting (M = 1, B = -1)\n",
        "data['Diagnosis'] = data['Diagnosis'].map({'M': 1, 'B': -1})\n",
        "\n",
        "# Extract features&labels from pandas df and convert to numpy arrays (.value)\n",
        "X = data[['Feature_1', 'Feature_2']].values\n",
        "y = data['Diagnosis'].values\n",
        "\n",
        "#NOTE: X is a 569 x 2 matrix: a row per sample, a column per feature"
      ],
      "metadata": {
        "id": "tHgNe004xL6k"
      },
      "execution_count": null,
      "outputs": []
    },
    {
      "cell_type": "code",
      "source": [
        "import torch\n",
        "import torch.nn as nn\n",
        "import torch.optim as optim\n",
        "import matplotlib.pyplot as plt\n",
        "import numpy as np\n",
        "from sklearn.preprocessing import StandardScaler\n",
        "\n",
        "# Define the Perceptron Model\n",
        "class Perceptron(nn.Module):\n",
        "    def __init__(self, input_dim):\n",
        "        super(Perceptron, self).__init__()\n",
        "        self.linear = nn.Linear(input_dim, 1)\n",
        "\n",
        "    def forward(self, x):\n",
        "        return torch.tanh(self.linear(x))  # Activation function\n",
        "\n",
        "# # Standardize the data (important for correct decision boundary)\n",
        "scaler = StandardScaler()\n",
        "X = scaler.fit_transform(X)\n",
        "\n",
        "# Convert to PyTorch tensors\n",
        "X = torch.tensor(X, dtype=torch.float32)\n",
        "y = torch.tensor(y, dtype=torch.float32).view(-1, 1)\n",
        "\n",
        "# Initialize model, loss, and optimizer\n",
        "model = Perceptron(input_dim=2)\n",
        "optimizer = optim.SGD(model.parameters(), lr=0.1)\n",
        "loss_fn = nn.MSELoss()\n",
        "\n",
        "# Train perceptron\n",
        "for epoch in range(50):\n",
        "    optimizer.zero_grad()\n",
        "    y_pred = model(X)\n",
        "    loss = loss_fn(y_pred, y)\n",
        "    loss.backward()\n",
        "    optimizer.step()\n",
        "\n",
        "# Extract learned weights and bias\n",
        "w = model.linear.weight.data.numpy().flatten()\n",
        "b = model.linear.bias.data.numpy()\n",
        "\n",
        "# Plot the data\n",
        "plt.figure(figsize=(8, 6))\n",
        "# plt.scatter(X[y[:, 0] == 1][:, 0], X[y[:, 0] == 1][:, 1],  edgecolor=\"k\", alpha=0.6, marker=\"o\", label=\"Malign (+1)\", s=100)\n",
        "# plt.scatter(X[y[:, 0] == -1][:, 0], X[y[:, 0] == -1][:, 1], edgecolor=\"k\", alpha=0.6, marker=\"o\", label=\"Benign (-1)\", s=100)\n",
        "plt.scatter(\n",
        "    X[:, 0], X[:, 1], c=y, cmap=\"coolwarm\", edgecolor=\"k\", alpha=0.8, marker=\"o\", s=100,\n",
        ")\n",
        "# Plot decision boundary\n",
        "x_boundary = np.linspace(X[:, 0].min(), X[:, 0].max(), 100)\n",
        "y_boundary = (-w[0] * x_boundary - b) / w[1]  # Compute y values\n",
        "\n",
        "# Legend for the plot\n",
        "handles = [\n",
        "    plt.Line2D([0], [0], marker='o', color='w', markerfacecolor='blue', alpha = 0.8, markersize=8, label='Benign (-1)'),\n",
        "    plt.Line2D([0], [0], marker='o', color='w', markerfacecolor='red', alpha = 0.8, markersize=8, label='Malignant (1)')\n",
        "]\n",
        "plt.legend(handles=handles, title='Diagnosis')\n",
        "\n",
        "plt.plot(x_boundary, y_boundary, 'k--', lw=3, label=\"Decision Boundary\")\n",
        "plt.xlabel(\"Radius Mean (scaled)\")\n",
        "plt.ylabel(\"Texture Mean (scaled)\")\n",
        "plt.title(\"Perceptron as NN\")\n",
        "plt.grid(True)\n",
        "plt.show()"
      ],
      "metadata": {
        "id": "wcvrfgBLxPKS"
      },
      "execution_count": null,
      "outputs": []
    }
  ]
}